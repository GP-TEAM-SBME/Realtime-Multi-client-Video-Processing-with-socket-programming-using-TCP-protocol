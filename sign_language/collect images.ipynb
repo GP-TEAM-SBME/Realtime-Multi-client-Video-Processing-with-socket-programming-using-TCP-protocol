{
 "cells": [
  {
   "cell_type": "code",
   "execution_count": 1,
   "id": "1d0e2f60",
   "metadata": {},
   "outputs": [],
   "source": [
    "import cv2\n",
    "import os\n",
    "import time\n",
    "import uuid"
   ]
  },
  {
   "cell_type": "code",
   "execution_count": 2,
   "id": "aa330a19",
   "metadata": {},
   "outputs": [],
   "source": [
    "IMAGES_PATH = 'Tensorflow/workspace/images/collectedimages'"
   ]
  },
  {
   "cell_type": "code",
   "execution_count": 3,
   "id": "93bcd5b3",
   "metadata": {},
   "outputs": [],
   "source": [
    "labels = ['hello','thanks','yes','no','iLoveyou']\n",
    "number_imgs  = 15"
   ]
  },
  {
   "cell_type": "code",
   "execution_count": 17,
   "id": "fb034d62",
   "metadata": {},
   "outputs": [
    {
     "name": "stdout",
     "output_type": "stream",
     "text": [
      "collecting images for hello\n",
      "collecting images for thanks\n",
      "collecting images for yes\n",
      "collecting images for no\n",
      "collecting images for iLoveyou\n"
     ]
    }
   ],
   "source": [
    "for label in labels:\n",
    "#     !mkdir {'Tensorflow\\workspace\\images\\collectedimages\\\\'+label}\n",
    "    cap = cv2.VideoCapture(0)\n",
    "    print('collecting images for {}'.format(label))\n",
    "    time.sleep(5)\n",
    "    if cap.isOpened():\n",
    "        current_frame = 0\n",
    "        while True:\n",
    "            for imgnum in range(number_imgs):\n",
    "                ret, frame = cap.read()\n",
    "                imgname = os.path.join(IMAGES_PATH, label+'.'+'{}.jpg'.format(str(uuid.uuid1())))\n",
    "                print(imgname)\n",
    "                cv2.imwrite(imgname, frame)\n",
    "                cv2.imshow('frame', frame)\n",
    "                time.sleep( 2 )\n",
    "        \n",
    "                if cv2.waitkey(1) & 0xFF == ord('q'):\n",
    "                    break\n",
    "        cap.release()\n",
    "    cv2.destroyAllWindows()"
   ]
  },
  {
   "cell_type": "code",
   "execution_count": null,
   "id": "4cfd1327",
   "metadata": {},
   "outputs": [],
   "source": []
  },
  {
   "cell_type": "code",
   "execution_count": null,
   "id": "ebaf889c",
   "metadata": {},
   "outputs": [],
   "source": []
  }
 ],
 "metadata": {
  "kernelspec": {
   "display_name": "Python 3",
   "language": "python",
   "name": "python3"
  },
  "language_info": {
   "codemirror_mode": {
    "name": "ipython",
    "version": 3
   },
   "file_extension": ".py",
   "mimetype": "text/x-python",
   "name": "python",
   "nbconvert_exporter": "python",
   "pygments_lexer": "ipython3",
   "version": "3.9.1"
  }
 },
 "nbformat": 4,
 "nbformat_minor": 5
}
